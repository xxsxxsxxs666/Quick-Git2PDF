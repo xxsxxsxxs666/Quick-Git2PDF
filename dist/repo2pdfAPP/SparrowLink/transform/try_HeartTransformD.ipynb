{
 "cells": [
  {
   "cell_type": "code",
   "execution_count": 2,
   "metadata": {
    "collapsed": true,
    "pycharm": {
     "name": "#%%\n"
    }
   },
   "outputs": [],
   "source": [
    "import os\n",
    "import pathlib\n",
    "\n",
    "import SimpleITK as sitk\n",
    "from monai.data import Dataset, DataLoader\n",
    "from monai.utils import first\n",
    "import matplotlib.pyplot as plt\n",
    "import numpy as np\n",
    "from monai.transforms import (\n",
    "    AsDiscrete,\n",
    "    AsDiscreted,\n",
    "    EnsureChannelFirstd,\n",
    "    Compose,\n",
    "    CropForegroundd,\n",
    "    LoadImaged,\n",
    "    Orientationd,\n",
    "    RandCropByPosNegLabeld,\n",
    "    SaveImaged,\n",
    "    SaveImage,\n",
    "    ScaleIntensityRanged,\n",
    "    Spacingd,\n",
    "    Invertd,\n",
    "    Rand3DElasticd,\n",
    "    RandRotated,\n",
    "    RandFlipd,\n",
    ")\n",
    "from monai.data import CacheDataset, decollate_batch\n",
    "import torch\n",
    "import glob\n",
    "from monai.utils import set_determinism"
   ]
  },
  {
   "cell_type": "code",
   "execution_count": 5,
   "outputs": [],
   "source": [
    "\n",
    "image_path = \"../data/multi_phase_select/final_version_crop_train/test/main/img_crop\"\n",
    "label_path = \"../data/multi_phase_select/final_version_crop_train/test/main/label_crop_clip\"\n",
    "heart_path = \"../data/multi_phase_select/final_version_crop_train/test/main/heart_connect_crop\"\n",
    "\n",
    "assert os.path.isdir(image_path), \"img path not exist\"\n",
    "assert os.path.isdir(label_path), \"label path not exist\"\n",
    "assert os.path.isdir(heart_path), \"heart path not exist\"\n",
    "\n",
    "train_images = sorted(glob.glob(os.path.join(image_path, \"*.nii.gz\")))\n",
    "train_labels = sorted(glob.glob(os.path.join(label_path, \"*.nii.gz\")))\n",
    "train_heart = sorted(glob.glob(os.path.join(heart_path, \"*.nii.gz\")))\n",
    "data_dicts = [\n",
    "    {\"image\": image_name, \"label\": label_name, \"heart\": heart_seg}\n",
    "    for image_name, label_name, heart_seg in zip(train_images, train_labels, train_heart)\n",
    "]\n",
    "device = torch.device(\"cuda\" if torch.cuda.is_available() else \"cpu\")\n",
    "\n",
    "from NoiseTransformD import GaussianNoiseD, GaussianBlurD\n",
    "from IntensityTransformD import CTNormalizeD, BrightnessMultiplicativeD, ContrastAugmentationD, \\\n",
    "    SimulateLowResolutionD, GammaD\n",
    "from SpatialTransformD import SpatialZooTransformD, CASTransformD\n",
    "from AnatomyTransformD import HeartTransformD\n",
    "set_determinism(seed=100)\n",
    "save_dir = \"./transform/test_transform/test_HeartTransformD\"\n",
    "pathlib.Path(save_dir).mkdir(parents=True, exist_ok=True)\n",
    "save_transform = Compose(\n",
    "    [\n",
    "        LoadImaged(keys=[\"image\", \"label\", \"heart\"]),\n",
    "        EnsureChannelFirstd(keys=[\"image\", \"label\", \"heart\"]),\n",
    "        SaveImaged(keys=[\"image\"], output_dir=save_dir, output_postfix='origin_image',\n",
    "                   print_log=True, padding_mode=\"zeros\"),\n",
    "        SaveImaged(keys=[\"label\"], output_dir=save_dir, output_postfix='origin_label',\n",
    "                   print_log=True, padding_mode=\"zeros\"),\n",
    "        SaveImaged(keys=[\"heart\"], output_dir=save_dir, output_postfix='origin_heart',\n",
    "                   print_log=True, padding_mode=\"zeros\"),\n",
    "        # SaveImaged(keys=[\"image\"], output_dir=save_dir, output_postfix='origin_image',\n",
    "        #            print_log=False),\n",
    "        # SaveImaged(keys=[\"label\"], output_dir=save_dir, output_postfix='origin_label',\n",
    "        #            print_log=False),\n",
    "        # CTNormalizeD(keys=[\"image\"],\n",
    "        #              mean_intensity=236.97554812655147,\n",
    "        #              std_intensity=149.1624262756288,\n",
    "        #              lower_bound=-50.0,\n",
    "        #              upper_bound=678.0, ),\n",
    "        # SaveImaged(keys=[\"image\"], output_dir=save_dir, output_postfix='norm_image',\n",
    "        #            print_log=False, padding_mode=\"zeros\"),\n",
    "        # CropForegroundd(keys=[\"image\", \"label\"], source_key=\"image\"),\n",
    "        # Orientationd(keys=[\"image\", \"label\"], axcodes=\"RAI\"),\n",
    "        # Spacingd(keys=[\"image\", \"label\"], pixdim=[0.359375, 0.359375, 0.5]\n",
    "        #          , mode=(3, \"nearest\"), padding_mode=('mirror', \"border\")),\n",
    "        # SpatialZooTransformD(keys=[\"label\"], label_key=\"label\", pos_ratio=1, patch_size=(128, 128, 64),\n",
    "        #                      border_mode=\"constant\", mode=\"nearest\", border_cval=0, num_samples=4, scale=(0.9, 1.1),\n",
    "        #                      p_el_per_sample=0, p_rot_per_sample=1, p_scale_per_sample=1, p_rot_per_axis=1),\n",
    "        # SpatialZooTransformD(keys=[\"image\", \"label\"], label_key=\"label\", pos_ratio=1, patch_size=(160, 128, 64),\n",
    "        #                      border_mode=\"constant\", mode=(\"bilinear\", \"nearest\"), border_cval=(0, 0), num_samples=4,\n",
    "        #                      alpha=(0., 1000.), sigma=(7, 8),  # sigma=(10., 13.),\n",
    "        #                      do_elastic_deform=True,\n",
    "        #                      p_el_per_sample=1, p_rot_per_sample=0, p_scale_per_sample=0, p_rot_per_axis=1),\n",
    "        # CASTransformD(keys=[\"image\", \"label\", \"heart\"], label_key=\"label\", heart_key=\"heart\", p_anatomy_per_sample=1,\n",
    "        #               dil_ranges=((-30, -40), (-300, -500)), directions_of_trans=((1, 1, 1), (1, 1, 1)), blur=[4, 32],\n",
    "        #               mode=(\"bilinear\", \"nearest\", \"nearest\"),),\n",
    "        HeartTransformD(keys=[\"image\", \"label\", \"heart\"], artery_key=\"label\", heart_key=\"heart\", p_anatomy_per_sample=1,\n",
    "                        dil_ranges=((-300, -500), (30, 30)), directions_of_trans=((1, 1, 1), (1, 1, 1)), blur=(32, 4),\n",
    "                        mode=(\"bilinear\", \"nearest\", \"nearest\"),),\n",
    "\n",
    "        SaveImaged(keys=[\"image\"], output_dir=save_dir, output_postfix='spatial_transform_image',\n",
    "                   print_log=True, padding_mode=\"zeros\"),\n",
    "        SaveImaged(keys=[\"label\"], output_dir=save_dir, output_postfix='spatial_transform_label',\n",
    "                   print_log=True, padding_mode=\"zeros\"),\n",
    "        SaveImaged(keys=[\"heart\"], output_dir=save_dir, output_postfix='spatial_transform_heart',\n",
    "                   print_log=True, padding_mode=\"zeros\"),\n",
    "    ]\n",
    ")\n",
    "def get_space_full_name(space):\n",
    "    assert len(space) == 3\n",
    "    full_name = []\n",
    "    for s in space:\n",
    "        if s == \"L\":\n",
    "            full_name.append(\"left\")\n",
    "        elif s == \"R\":\n",
    "            full_name.append(\"right\")\n",
    "        elif s == \"A\":\n",
    "            full_name.append(\"anterior\")\n",
    "        elif s == \"P\":\n",
    "            full_name.append(\"posterior\")\n",
    "        elif s == \"S\":\n",
    "            full_name.append(\"superior\")\n",
    "        elif s == \"I\":\n",
    "            full_name.append(\"inferior\")\n",
    "    # link with _ to form full name\n",
    "    return \"-\".join(full_name)\n",
    "\n"
   ],
   "metadata": {
    "collapsed": false,
    "pycharm": {
     "name": "#%%\n"
    }
   }
  },
  {
   "cell_type": "code",
   "execution_count": 6,
   "outputs": [
    {
     "name": "stdout",
     "output_type": "stream",
     "text": [
      "2024-03-02 12:48:58,933 INFO image_writer.py:194 - writing: transform\\test_transform\\test_HeartTransformD\\AI01_0043\\AI01_0043_origin_image.nii.gz\n",
      "2024-03-02 12:49:02,205 INFO image_writer.py:194 - writing: transform\\test_transform\\test_HeartTransformD\\AI01_0043\\AI01_0043_origin_label.nii.gz\n",
      "2024-03-02 12:49:03,184 INFO image_writer.py:194 - writing: transform\\test_transform\\test_HeartTransformD\\AI01_0043\\AI01_0043_origin_heart.nii.gz\n"
     ]
    },
    {
     "ename": "RuntimeError",
     "evalue": "applying transform <AnatomyTransformD.HeartTransformD object at 0x000002617A5B9808>",
     "output_type": "error",
     "traceback": [
      "\u001B[1;31m---------------------------------------------------------------------------\u001B[0m",
      "\u001B[1;31mTypeError\u001B[0m                                 Traceback (most recent call last)",
      "\u001B[1;32mH:\\anaconda\\Anaconda\\envs\\Pytorch_gpu\\lib\\site-packages\\monai\\transforms\\transform.py\u001B[0m in \u001B[0;36mapply_transform\u001B[1;34m(transform, data, map_items, unpack_items, log_stats)\u001B[0m\n\u001B[0;32m    101\u001B[0m             \u001B[1;32mreturn\u001B[0m \u001B[1;33m[\u001B[0m\u001B[0m_apply_transform\u001B[0m\u001B[1;33m(\u001B[0m\u001B[0mtransform\u001B[0m\u001B[1;33m,\u001B[0m \u001B[0mitem\u001B[0m\u001B[1;33m,\u001B[0m \u001B[0munpack_items\u001B[0m\u001B[1;33m)\u001B[0m \u001B[1;32mfor\u001B[0m \u001B[0mitem\u001B[0m \u001B[1;32min\u001B[0m \u001B[0mdata\u001B[0m\u001B[1;33m]\u001B[0m\u001B[1;33m\u001B[0m\u001B[1;33m\u001B[0m\u001B[0m\n\u001B[1;32m--> 102\u001B[1;33m         \u001B[1;32mreturn\u001B[0m \u001B[0m_apply_transform\u001B[0m\u001B[1;33m(\u001B[0m\u001B[0mtransform\u001B[0m\u001B[1;33m,\u001B[0m \u001B[0mdata\u001B[0m\u001B[1;33m,\u001B[0m \u001B[0munpack_items\u001B[0m\u001B[1;33m)\u001B[0m\u001B[1;33m\u001B[0m\u001B[1;33m\u001B[0m\u001B[0m\n\u001B[0m\u001B[0;32m    103\u001B[0m     \u001B[1;32mexcept\u001B[0m \u001B[0mException\u001B[0m \u001B[1;32mas\u001B[0m \u001B[0me\u001B[0m\u001B[1;33m:\u001B[0m\u001B[1;33m\u001B[0m\u001B[1;33m\u001B[0m\u001B[0m\n",
      "\u001B[1;32mH:\\anaconda\\Anaconda\\envs\\Pytorch_gpu\\lib\\site-packages\\monai\\transforms\\transform.py\u001B[0m in \u001B[0;36m_apply_transform\u001B[1;34m(transform, parameters, unpack_parameters)\u001B[0m\n\u001B[0;32m     65\u001B[0m \u001B[1;33m\u001B[0m\u001B[0m\n\u001B[1;32m---> 66\u001B[1;33m     \u001B[1;32mreturn\u001B[0m \u001B[0mtransform\u001B[0m\u001B[1;33m(\u001B[0m\u001B[0mparameters\u001B[0m\u001B[1;33m)\u001B[0m\u001B[1;33m\u001B[0m\u001B[1;33m\u001B[0m\u001B[0m\n\u001B[0m\u001B[0;32m     67\u001B[0m \u001B[1;33m\u001B[0m\u001B[0m\n",
      "\u001B[1;32mH:\\Graduate_project\\segment_server\\transform\\AnatomyTransformD.py\u001B[0m in \u001B[0;36m__call__\u001B[1;34m(self, data)\u001B[0m\n\u001B[0;32m    442\u001B[0m         \u001B[0mspacing\u001B[0m \u001B[1;33m=\u001B[0m \u001B[0md\u001B[0m\u001B[1;33m[\u001B[0m\u001B[0mself\u001B[0m\u001B[1;33m.\u001B[0m\u001B[0mheart_key\u001B[0m\u001B[1;33m]\u001B[0m\u001B[1;33m.\u001B[0m\u001B[0mmeta\u001B[0m\u001B[1;33m[\u001B[0m\u001B[1;34m'pixdim'\u001B[0m\u001B[1;33m]\u001B[0m\u001B[1;33m[\u001B[0m\u001B[1;36m1\u001B[0m\u001B[1;33m:\u001B[0m\u001B[1;36m4\u001B[0m\u001B[1;33m]\u001B[0m\u001B[1;33m\u001B[0m\u001B[1;33m\u001B[0m\u001B[0m\n\u001B[1;32m--> 443\u001B[1;33m         \u001B[0mm\u001B[0m\u001B[1;33m,\u001B[0m \u001B[0mdeformation_record\u001B[0m \u001B[1;33m=\u001B[0m \u001B[0mself\u001B[0m\u001B[1;33m.\u001B[0m\u001B[0mrandomize\u001B[0m\u001B[1;33m(\u001B[0m\u001B[0mmask\u001B[0m\u001B[1;33m=\u001B[0m\u001B[0mmask\u001B[0m\u001B[1;33m,\u001B[0m \u001B[0mspacing\u001B[0m\u001B[1;33m=\u001B[0m\u001B[0mspacing\u001B[0m\u001B[1;33m)\u001B[0m\u001B[1;33m\u001B[0m\u001B[1;33m\u001B[0m\u001B[0m\n\u001B[0m\u001B[0;32m    444\u001B[0m \u001B[1;33m\u001B[0m\u001B[0m\n",
      "\u001B[1;32mH:\\Graduate_project\\segment_server\\transform\\AnatomyTransformD.py\u001B[0m in \u001B[0;36mrandomize\u001B[1;34m(self, mask, spacing)\u001B[0m\n\u001B[0;32m    476\u001B[0m             \u001B[1;32mfor\u001B[0m \u001B[0midx\u001B[0m \u001B[1;32min\u001B[0m \u001B[0mrandom_index\u001B[0m\u001B[1;33m:\u001B[0m\u001B[1;33m\u001B[0m\u001B[1;33m\u001B[0m\u001B[0m\n\u001B[1;32m--> 477\u001B[1;33m                 \u001B[0mmask_dilation\u001B[0m \u001B[1;33m+=\u001B[0m \u001B[0mmask\u001B[0m\u001B[1;33m[\u001B[0m\u001B[1;36m0\u001B[0m\u001B[1;33m]\u001B[0m\u001B[1;33m[\u001B[0m\u001B[1;36m0\u001B[0m\u001B[1;33m]\u001B[0m \u001B[1;33m==\u001B[0m \u001B[0midx\u001B[0m\u001B[1;33m\u001B[0m\u001B[1;33m\u001B[0m\u001B[0m\n\u001B[0m\u001B[0;32m    478\u001B[0m             t_h, u_h, v_h = get_organ_gradient_field(mask_dilation > 0,\n",
      "\u001B[1;31mTypeError\u001B[0m: operand type(s) all returned NotImplemented from __array_ufunc__(<ufunc 'add'>, '__call__', array([[[0., 0., 0., ..., 0., 0., 0.],\n        [0., 0., 0., ..., 0., 0., 0.],\n        [0., 0., 0., ..., 0., 0., 0.],\n        ...,\n        [0., 0., 0., ..., 0., 0., 0.],\n        [0., 0., 0., ..., 0., 0., 0.],\n        [0., 0., 0., ..., 0., 0., 0.]],\n\n       [[0., 0., 0., ..., 0., 0., 0.],\n        [0., 0., 0., ..., 0., 0., 0.],\n        [0., 0., 0., ..., 0., 0., 0.],\n        ...,\n        [0., 0., 0., ..., 0., 0., 0.],\n        [0., 0., 0., ..., 0., 0., 0.],\n        [0., 0., 0., ..., 0., 0., 0.]],\n\n       [[0., 0., 0., ..., 0., 0., 0.],\n        [0., 0., 0., ..., 0., 0., 0.],\n        [0., 0., 0., ..., 0., 0., 0.],\n        ...,\n        [0., 0., 0., ..., 0., 0., 0.],\n        [0., 0., 0., ..., 0., 0., 0.],\n        [0., 0., 0., ..., 0., 0., 0.]],\n\n       ...,\n\n       [[0., 0., 0., ..., 0., 0., 0.],\n        [0., 0., 0., ..., 0., 0., 0.],\n        [0., 0., 0., ..., 0., 0., 0.],\n        ...,\n        [0., 0., 0., ..., 0., 0., 0.],\n        [0., 0., 0., ..., 0., 0., 0.],\n        [0., 0., 0., ..., 0., 0., 0.]],\n\n       [[0., 0., 0., ..., 0., 0., 0.],\n        [0., 0., 0., ..., 0., 0., 0.],\n        [0., 0., 0., ..., 0., 0., 0.],\n        ...,\n        [0., 0., 0., ..., 0., 0., 0.],\n        [0., 0., 0., ..., 0., 0., 0.],\n        [0., 0., 0., ..., 0., 0., 0.]],\n\n       [[0., 0., 0., ..., 0., 0., 0.],\n        [0., 0., 0., ..., 0., 0., 0.],\n        [0., 0., 0., ..., 0., 0., 0.],\n        ...,\n        [0., 0., 0., ..., 0., 0., 0.],\n        [0., 0., 0., ..., 0., 0., 0.],\n        [0., 0., 0., ..., 0., 0., 0.]]], dtype=float32), tensor([[[False, False, False,  ..., False, False, False],\n         [False, False, False,  ..., False, False, False],\n         [False, False, False,  ..., False, False, False],\n         ...,\n         [False, False, False,  ..., False, False, False],\n         [False, False, False,  ..., False, False, False],\n         [False, False, False,  ..., False, False, False]],\n\n        [[False, False, False,  ..., False, False, False],\n         [False, False, False,  ..., False, False, False],\n         [False, False, False,  ..., False, False, False],\n         ...,\n         [False, False, False,  ..., False, False, False],\n         [False, False, False,  ..., False, False, False],\n         [False, False, False,  ..., False, False, False]],\n\n        [[False, False, False,  ..., False, False, False],\n         [False, False, False,  ..., False, False, False],\n         [False, False, False,  ..., False, False, False],\n         ...,\n         [False, False, False,  ..., False, False, False],\n         [False, False, False,  ..., False, False, False],\n         [False, False, False,  ..., False, False, False]],\n\n        ...,\n\n        [[False, False, False,  ..., False, False, False],\n         [False, False, False,  ..., False, False, False],\n         [False, False, False,  ..., False, False, False],\n         ...,\n         [False, False, False,  ..., False, False, False],\n         [False, False, False,  ..., False, False, False],\n         [False, False, False,  ..., False, False, False]],\n\n        [[False, False, False,  ..., False, False, False],\n         [False, False, False,  ..., False, False, False],\n         [False, False, False,  ..., False, False, False],\n         ...,\n         [False, False, False,  ..., False, False, False],\n         [False, False, False,  ..., False, False, False],\n         [False, False, False,  ..., False, False, False]],\n\n        [[False, False, False,  ..., False, False, False],\n         [False, False, False,  ..., False, False, False],\n         [False, False, False,  ..., False, False, False],\n         ...,\n         [False, False, False,  ..., False, False, False],\n         [False, False, False,  ..., False, False, False],\n         [False, False, False,  ..., False, False, False]]]), out=(array([[[0., 0., 0., ..., 0., 0., 0.],\n        [0., 0., 0., ..., 0., 0., 0.],\n        [0., 0., 0., ..., 0., 0., 0.],\n        ...,\n        [0., 0., 0., ..., 0., 0., 0.],\n        [0., 0., 0., ..., 0., 0., 0.],\n        [0., 0., 0., ..., 0., 0., 0.]],\n\n       [[0., 0., 0., ..., 0., 0., 0.],\n        [0., 0., 0., ..., 0., 0., 0.],\n        [0., 0., 0., ..., 0., 0., 0.],\n        ...,\n        [0., 0., 0., ..., 0., 0., 0.],\n        [0., 0., 0., ..., 0., 0., 0.],\n        [0., 0., 0., ..., 0., 0., 0.]],\n\n       [[0., 0., 0., ..., 0., 0., 0.],\n        [0., 0., 0., ..., 0., 0., 0.],\n        [0., 0., 0., ..., 0., 0., 0.],\n        ...,\n        [0., 0., 0., ..., 0., 0., 0.],\n        [0., 0., 0., ..., 0., 0., 0.],\n        [0., 0., 0., ..., 0., 0., 0.]],\n\n       ...,\n\n       [[0., 0., 0., ..., 0., 0., 0.],\n        [0., 0., 0., ..., 0., 0., 0.],\n        [0., 0., 0., ..., 0., 0., 0.],\n        ...,\n        [0., 0., 0., ..., 0., 0., 0.],\n        [0., 0., 0., ..., 0., 0., 0.],\n        [0., 0., 0., ..., 0., 0., 0.]],\n\n       [[0., 0., 0., ..., 0., 0., 0.],\n        [0., 0., 0., ..., 0., 0., 0.],\n        [0., 0., 0., ..., 0., 0., 0.],\n        ...,\n        [0., 0., 0., ..., 0., 0., 0.],\n        [0., 0., 0., ..., 0., 0., 0.],\n        [0., 0., 0., ..., 0., 0., 0.]],\n\n       [[0., 0., 0., ..., 0., 0., 0.],\n        [0., 0., 0., ..., 0., 0., 0.],\n        [0., 0., 0., ..., 0., 0., 0.],\n        ...,\n        [0., 0., 0., ..., 0., 0., 0.],\n        [0., 0., 0., ..., 0., 0., 0.],\n        [0., 0., 0., ..., 0., 0., 0.]]], dtype=float32),)): 'ndarray', 'MetaTensor', 'ndarray'",
      "\nThe above exception was the direct cause of the following exception:\n",
      "\u001B[1;31mRuntimeError\u001B[0m                              Traceback (most recent call last)",
      "\u001B[1;32m~\\AppData\\Local\\Temp\\ipykernel_23168\\668329930.py\u001B[0m in \u001B[0;36m<module>\u001B[1;34m\u001B[0m\n\u001B[0;32m      1\u001B[0m \u001B[1;32mimport\u001B[0m \u001B[0mnrrd\u001B[0m\u001B[1;33m\u001B[0m\u001B[1;33m\u001B[0m\u001B[0m\n\u001B[0;32m      2\u001B[0m \u001B[1;32mfor\u001B[0m \u001B[0mcase\u001B[0m \u001B[1;32min\u001B[0m \u001B[0mdata_dicts\u001B[0m\u001B[1;33m[\u001B[0m\u001B[1;36m0\u001B[0m\u001B[1;33m:\u001B[0m\u001B[1;36m1\u001B[0m\u001B[1;33m]\u001B[0m\u001B[1;33m:\u001B[0m\u001B[1;33m\u001B[0m\u001B[1;33m\u001B[0m\u001B[0m\n\u001B[1;32m----> 3\u001B[1;33m     \u001B[0md\u001B[0m \u001B[1;33m=\u001B[0m \u001B[0msave_transform\u001B[0m\u001B[1;33m(\u001B[0m\u001B[0mcase\u001B[0m\u001B[1;33m)\u001B[0m\u001B[1;33m\u001B[0m\u001B[1;33m\u001B[0m\u001B[0m\n\u001B[0m\u001B[0;32m      4\u001B[0m     \u001B[0msave_path\u001B[0m \u001B[1;33m=\u001B[0m \u001B[0mos\u001B[0m\u001B[1;33m.\u001B[0m\u001B[0mpath\u001B[0m\u001B[1;33m.\u001B[0m\u001B[0mjoin\u001B[0m\u001B[1;33m(\u001B[0m\u001B[0msave_dir\u001B[0m\u001B[1;33m,\u001B[0m \u001B[0mpathlib\u001B[0m\u001B[1;33m.\u001B[0m\u001B[0mPath\u001B[0m\u001B[1;33m(\u001B[0m\u001B[0md\u001B[0m\u001B[1;33m[\u001B[0m\u001B[1;34m\"image\"\u001B[0m\u001B[1;33m]\u001B[0m\u001B[1;33m.\u001B[0m\u001B[0mmeta\u001B[0m\u001B[1;33m[\u001B[0m\u001B[1;34m\"filename_or_obj\"\u001B[0m\u001B[1;33m]\u001B[0m\u001B[1;33m)\u001B[0m\u001B[1;33m.\u001B[0m\u001B[0mname\u001B[0m\u001B[1;33m.\u001B[0m\u001B[0msplit\u001B[0m\u001B[1;33m(\u001B[0m\u001B[1;34m\".\"\u001B[0m\u001B[1;33m)\u001B[0m\u001B[1;33m[\u001B[0m\u001B[1;36m0\u001B[0m\u001B[1;33m]\u001B[0m\u001B[1;33m)\u001B[0m\u001B[1;33m\u001B[0m\u001B[1;33m\u001B[0m\u001B[0m\n\u001B[0;32m      5\u001B[0m     \u001B[0mheart_fd\u001B[0m \u001B[1;33m=\u001B[0m \u001B[0mnp\u001B[0m\u001B[1;33m.\u001B[0m\u001B[0marray\u001B[0m\u001B[1;33m(\u001B[0m\u001B[0md\u001B[0m\u001B[1;33m[\u001B[0m\u001B[1;34m\"heart_df\"\u001B[0m\u001B[1;33m]\u001B[0m\u001B[1;33m.\u001B[0m\u001B[0mpermute\u001B[0m\u001B[1;33m(\u001B[0m\u001B[1;36m1\u001B[0m\u001B[1;33m,\u001B[0m \u001B[1;36m2\u001B[0m\u001B[1;33m,\u001B[0m \u001B[1;36m3\u001B[0m\u001B[1;33m,\u001B[0m \u001B[1;36m0\u001B[0m\u001B[1;33m)\u001B[0m\u001B[1;33m)\u001B[0m\u001B[1;33m\u001B[0m\u001B[1;33m\u001B[0m\u001B[0m\n",
      "\u001B[1;32mH:\\anaconda\\Anaconda\\envs\\Pytorch_gpu\\lib\\site-packages\\monai\\transforms\\compose.py\u001B[0m in \u001B[0;36m__call__\u001B[1;34m(self, input_)\u001B[0m\n\u001B[0;32m    172\u001B[0m     \u001B[1;32mdef\u001B[0m \u001B[0m__call__\u001B[0m\u001B[1;33m(\u001B[0m\u001B[0mself\u001B[0m\u001B[1;33m,\u001B[0m \u001B[0minput_\u001B[0m\u001B[1;33m)\u001B[0m\u001B[1;33m:\u001B[0m\u001B[1;33m\u001B[0m\u001B[1;33m\u001B[0m\u001B[0m\n\u001B[0;32m    173\u001B[0m         \u001B[1;32mfor\u001B[0m \u001B[0m_transform\u001B[0m \u001B[1;32min\u001B[0m \u001B[0mself\u001B[0m\u001B[1;33m.\u001B[0m\u001B[0mtransforms\u001B[0m\u001B[1;33m:\u001B[0m\u001B[1;33m\u001B[0m\u001B[1;33m\u001B[0m\u001B[0m\n\u001B[1;32m--> 174\u001B[1;33m             \u001B[0minput_\u001B[0m \u001B[1;33m=\u001B[0m \u001B[0mapply_transform\u001B[0m\u001B[1;33m(\u001B[0m\u001B[0m_transform\u001B[0m\u001B[1;33m,\u001B[0m \u001B[0minput_\u001B[0m\u001B[1;33m,\u001B[0m \u001B[0mself\u001B[0m\u001B[1;33m.\u001B[0m\u001B[0mmap_items\u001B[0m\u001B[1;33m,\u001B[0m \u001B[0mself\u001B[0m\u001B[1;33m.\u001B[0m\u001B[0munpack_items\u001B[0m\u001B[1;33m,\u001B[0m \u001B[0mself\u001B[0m\u001B[1;33m.\u001B[0m\u001B[0mlog_stats\u001B[0m\u001B[1;33m)\u001B[0m\u001B[1;33m\u001B[0m\u001B[1;33m\u001B[0m\u001B[0m\n\u001B[0m\u001B[0;32m    175\u001B[0m         \u001B[1;32mreturn\u001B[0m \u001B[0minput_\u001B[0m\u001B[1;33m\u001B[0m\u001B[1;33m\u001B[0m\u001B[0m\n\u001B[0;32m    176\u001B[0m \u001B[1;33m\u001B[0m\u001B[0m\n",
      "\u001B[1;32mH:\\anaconda\\Anaconda\\envs\\Pytorch_gpu\\lib\\site-packages\\monai\\transforms\\transform.py\u001B[0m in \u001B[0;36mapply_transform\u001B[1;34m(transform, data, map_items, unpack_items, log_stats)\u001B[0m\n\u001B[0;32m    127\u001B[0m             \u001B[1;32melse\u001B[0m\u001B[1;33m:\u001B[0m\u001B[1;33m\u001B[0m\u001B[1;33m\u001B[0m\u001B[0m\n\u001B[0;32m    128\u001B[0m                 \u001B[0m_log_stats\u001B[0m\u001B[1;33m(\u001B[0m\u001B[0mdata\u001B[0m\u001B[1;33m=\u001B[0m\u001B[0mdata\u001B[0m\u001B[1;33m)\u001B[0m\u001B[1;33m\u001B[0m\u001B[1;33m\u001B[0m\u001B[0m\n\u001B[1;32m--> 129\u001B[1;33m         \u001B[1;32mraise\u001B[0m \u001B[0mRuntimeError\u001B[0m\u001B[1;33m(\u001B[0m\u001B[1;34mf\"applying transform {transform}\"\u001B[0m\u001B[1;33m)\u001B[0m \u001B[1;32mfrom\u001B[0m \u001B[0me\u001B[0m\u001B[1;33m\u001B[0m\u001B[1;33m\u001B[0m\u001B[0m\n\u001B[0m\u001B[0;32m    130\u001B[0m \u001B[1;33m\u001B[0m\u001B[0m\n\u001B[0;32m    131\u001B[0m \u001B[1;33m\u001B[0m\u001B[0m\n",
      "\u001B[1;31mRuntimeError\u001B[0m: applying transform <AnatomyTransformD.HeartTransformD object at 0x000002617A5B9808>"
     ]
    }
   ],
   "source": [
    "import nrrd\n",
    "for case in data_dicts[0:1]:\n",
    "    d = save_transform(case)\n",
    "    save_path = os.path.join(save_dir, pathlib.Path(d[\"image\"].meta[\"filename_or_obj\"]).name.split(\".\")[0])\n",
    "    heart_fd = np.array(d[\"heart_df\"].permute(1, 2, 3, 0))\n",
    "    label_fd = np.array(d[\"label_df\"].permute(1, 2, 3, 0))\n",
    "    space = get_space_full_name(d[\"image\"].meta[\"space\"])\n",
    "    spacing = np.array((d[\"image\"].pixdim)).tolist()\n",
    "    offset = np.array((d[\"image\"].meta[\"original_affine\"][:3, 3]))\n",
    "    direction = np.array((d[\"image\"].meta[\"original_affine\"][:3, :3])).tolist()\n",
    "    header = {\n",
    "        'endian': 'little',\n",
    "        'encoding': 'raw',\n",
    "        'space': space,\n",
    "        'space directions': direction+[None],\n",
    "        'space origin': offset,\n",
    "        'kinds': ['domain', 'domain', 'domain', 'vector'],\n",
    "    }\n",
    "    nrrd.write(os.path.join(save_path, 'heart_fd.nrrd'), heart_fd, header=header)\n",
    "    nrrd.write(os.path.join(save_path, 'label_fd.nrrd'), label_fd, header=header)"
   ],
   "metadata": {
    "collapsed": false,
    "pycharm": {
     "name": "#%%\n"
    }
   }
  },
  {
   "cell_type": "code",
   "execution_count": null,
   "outputs": [],
   "source": [],
   "metadata": {
    "collapsed": false,
    "pycharm": {
     "name": "#%%\n"
    }
   }
  }
 ],
 "metadata": {
  "kernelspec": {
   "display_name": "Python 3",
   "language": "python",
   "name": "python3"
  },
  "language_info": {
   "codemirror_mode": {
    "name": "ipython",
    "version": 2
   },
   "file_extension": ".py",
   "mimetype": "text/x-python",
   "name": "python",
   "nbconvert_exporter": "python",
   "pygments_lexer": "ipython2",
   "version": "2.7.6"
  }
 },
 "nbformat": 4,
 "nbformat_minor": 0
}