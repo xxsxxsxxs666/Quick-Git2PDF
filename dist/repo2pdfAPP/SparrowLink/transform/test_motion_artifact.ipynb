{
 "cells": [
  {
   "cell_type": "markdown",
   "source": [
    "Workflow:\n",
    "* find random point in the skeleton\n",
    "* get random orientation O_t of the point\n",
    "* calculate the MVF around the point, using distance, label and apply gaussian filter to the MVF\n",
    "* apply the MVF to image\n",
    "* using weighted average\n",
    "* using FBP to get simulated image"
   ],
   "metadata": {
    "collapsed": false,
    "pycharm": {
     "name": "#%% md\n"
    }
   }
  },
  {
   "cell_type": "code",
   "execution_count": 1,
   "outputs": [
    {
     "name": "stderr",
     "output_type": "stream",
     "text": [
      "H:\\anaconda\\Anaconda\\envs\\Pytorch_gpu\\lib\\site-packages\\tqdm\\auto.py:21: TqdmWarning: IProgress not found. Please update jupyter and ipywidgets. See https://ipywidgets.readthedocs.io/en/stable/user_install.html\n",
      "  from .autonotebook import tqdm as notebook_tqdm\n"
     ]
    }
   ],
   "source": [
    "# load image\n",
    "from monai.transforms import LoadImage\n",
    "from skimage.morphology import skeletonize\n",
    "import numpy as np\n",
    "from scipy.ndimage import sobel\n",
    "from post_processing.fracture_detection import get_point_orientation\n",
    "from slicer_visulization.slicer_mvf import save_mvf, save_image\n",
    "from slicer_visulization.slicer_mark_up import create_extended_plane_markup_json\n",
    "from scipy.ndimage import gaussian_filter\n",
    "from scipy.ndimage import map_coordinates\n",
    "from monai.transforms import SaveImage\n",
    "from batchgenerators.augmentations.utils import create_zero_centered_coordinate_mesh\n",
    "import pathlib\n",
    "\n",
    "\n",
    "def find_random_one_numpy(image):\n",
    "    # 找到值为1的所有点的坐标\n",
    "    ones_indices = np.where(image == 1)\n",
    "    # 转换坐标为列表形式 [(x1, y1), (x2, y2), ...]\n",
    "    ones_list = list(zip(ones_indices[0], ones_indices[1], ones_indices[2]))\n",
    "\n",
    "    if not ones_list:\n",
    "        return None  # 如果没有找到值为1的点，则返回None\n",
    "\n",
    "    # 从列表中随机选择一个点\n",
    "    return ones_list[np.random.randint(len(ones_list))]\n",
    "\n",
    "\n",
    "def calculate_normal_vector(image, point):\n",
    "    # 从点的坐标中获取x, y, z\n",
    "    x, y, z = point\n",
    "    # 获取图像的大小\n",
    "    x_max, y_max, z_max = image.shape\n",
    "    # 计算梯度\n",
    "    dx = (image[min(x + 1, x_max - 1), y, z] - image[max(x - 1, 0), y, z]) / 2\n",
    "    dy = (image[x, min(y + 1, y_max - 1), z] - image[x, max(y - 1, 0), z]) / 2\n",
    "    dz = (image[x, y, min(z + 1, z_max - 1)] - image[x, y, max(z - 1, 0)]) / 2\n",
    "    # 归一化\n",
    "    norm = np.sqrt(dx ** 2 + dy ** 2 + dz ** 2)\n",
    "    return dx / norm, dy / norm, dz / norm\n",
    "\n",
    "\n",
    "def generate_random_vector_perpendicular_to(n):\n",
    "    # 确保n是单位向量\n",
    "    n = n / np.linalg.norm(n)\n",
    "\n",
    "    # 生成一个随机向量\n",
    "    r = np.random.rand(3)\n",
    "\n",
    "    # 计算垂直于n的向量\n",
    "    v = np.cross(n, r)\n",
    "\n",
    "    # 如果v是零向量（非常罕见的情况，但理论上可能如果r和n平行），重新生成r\n",
    "    while np.linalg.norm(v) == 0:\n",
    "        r = np.random.rand(3)\n",
    "        v = np.cross(n, r)\n",
    "\n",
    "    # 标准化v\n",
    "    v = v / np.linalg.norm(v)\n",
    "\n",
    "    return v\n",
    "\n",
    "\n",
    "def calculate_markup_orientation_from_normal(normal, up_vector=None):\n",
    "    \"\"\"\n",
    "    We need normal vector and up_vector are unit vectors\n",
    "    \"\"\"\n",
    "    # 将法向量转换为单位向量\n",
    "    normal_vector = np.array(normal)\n",
    "    normal_vector /= np.linalg.norm(normal_vector)\n",
    "    if up_vector is not None:\n",
    "        # 选择一个“向上”向量，这里我们选择Y轴\n",
    "        up_vector = np.array(up_vector)\n",
    "        up_vector /= np.linalg.norm(up_vector)\n",
    "    else:\n",
    "        up_vector = np.array([0, 0, 1])\n",
    "\n",
    "    # 计算右向量，使其垂直于法向量和“向上”向量\n",
    "    # 防止“向上”向量和法向量共线\n",
    "    if np.abs(np.dot(up_vector, normal_vector)) > 0.99:\n",
    "        orientation_matrix = np.eye(3)\n",
    "        return orientation_matrix\n",
    "    right_vector = np.cross(up_vector, normal_vector)\n",
    "    right_vector /= np.linalg.norm(right_vector)\n",
    "\n",
    "    # 重新计算调整后的“向上”向量，确保它垂直于法向量和右向量\n",
    "    up_vector_adjusted = np.cross(normal_vector, right_vector)\n",
    "\n",
    "    # 构建orientation矩阵\n",
    "    orientation_matrix = np.vstack([right_vector, up_vector_adjusted, normal_vector]).T\n",
    "\n",
    "    return orientation_matrix\n",
    "\n",
    "\n",
    "def image2world(point, spacing, origin, direction):\n",
    "    \"\"\"\n",
    "    Convert point from image coordinate to world coordinate\n",
    "    \"\"\"\n",
    "    # 输入的是list\n",
    "    direction_com = np.array([direction[0], direction[4], direction[8]])\n",
    "    return (np.array(point) * np.array(spacing) * np.array(direction_com) + np.array(origin)).tolist()\n",
    "\n",
    "\n",
    "def vessel_motion_simulator(image, label, heart, seed, scale_list):\n",
    "    # 1. Get the skeleton of the label\n",
    "    skeleton = skeletonize(label) > 0\n",
    "\n",
    "    # 2. Get the centerline of the skeleton\n",
    "    centerline = np.zeros_like(skeleton)\n",
    "    centerline[1:-1, 1:-1, 1:-1] = skeleton[1:-1, 1:-1, 1:-1] & ~skeleton[0:-2, 0:-2, 0:-2] & ~skeleton[2:, 2:, 2:]\n",
    "\n",
    "    # 3. Get the normal vector of the centerline\n",
    "    normal_vector = np.zeros_like(centerline, dtype=np.float32)\n",
    "    for i in range(3):\n",
    "        normal_vector[:, :, :, i] = sobel(centerline, axis=i)\n",
    "\n",
    "    # 4. Get the orientation matrix of the centerline\n",
    "    orientation_matrix = np.zeros((centerline.shape[0], centerline.shape[1], centerline.shape[2], 3, 3),\n",
    "                                  dtype=np.float32)\n"
   ],
   "metadata": {
    "collapsed": false,
    "pycharm": {
     "name": "#%%\n"
    }
   }
  },
  {
   "cell_type": "markdown",
   "source": [
    "* calculate the MVF around the point, using distance, label and apply gaussian filter to the MVF"
   ],
   "metadata": {
    "collapsed": false,
    "pycharm": {
     "name": "#%% md\n"
    }
   }
  },
  {
   "cell_type": "markdown",
   "source": [
    "# Loading Data"
   ],
   "metadata": {
    "collapsed": false,
    "pycharm": {
     "name": "#%% md\n"
    }
   },
   "outputs": []
  },
  {
   "cell_type": "code",
   "execution_count": 4,
   "outputs": [
    {
     "name": "stdout",
     "output_type": "stream",
     "text": [
      "plane_normal: [-0.36927175002298585, 0.5768966098078007, -0.7285799038041246] random_direction_3d: [ 0.87304806 -0.05331706 -0.48471061] dot product: 6.938893903907228e-18\n",
      "2024-03-06 21:21:53,360 INFO image_writer.py:194 - writing: H:\\slicer\\motion_simulator\\AI01_0043\\AI01_0043_warp_image_seed_6_scale_p10.nii.gz\n",
      "2024-03-06 21:21:56,578 INFO image_writer.py:194 - writing: H:\\slicer\\motion_simulator\\AI01_0043\\AI01_0043_warp_label_seed_6_scale_p10.nii.gz\n",
      "[10]\n"
     ]
    }
   ],
   "source": [
    "loader = LoadImage(image_only=True)\n",
    "image = loader(\n",
    "    \"H:/Graduate_project/segment_server/data/multi_phase_select/final_version_crop_train/test/main/img_crop/AI01_0043.nii.gz\")\n",
    "label = loader(\n",
    "    \"H:/Graduate_project/segment_server/data/multi_phase_select/final_version_crop_train/test/main/label_crop_clip/AI01_0043.nii.gz\")\n",
    "heart = loader(\n",
    "    \"H:/Graduate_project/segment_server/data/multi_phase_select/final_version_crop_train/test/main/heart_connect_crop/AI01_0043.nii.gz\")\n",
    "skeleton = skeletonize(label) > 0\n",
    "\n",
    "# Coordinate system\n",
    "original_affine = image.meta.get('original_affine')\n",
    "direction_image = np.sign(original_affine[:3, :3].reshape(-1, )).tolist()\n",
    "spacing = image.meta.get('pixdim')[1:4]\n",
    "origin = original_affine[:3, 3]\n",
    "sigma = 5  # gaussian kernel sigma for smoothing the orientation field\n",
    "# scale_list = np.array([-1, -0.75, -0.5, -0.25, 0, 0.25, 0.5, 0.75, 1]) * sigma * 2  # scale factor for the random motion\n",
    "scale_list = np.array([1]) * sigma * 2\n",
    "seed_list = [6]\n",
    "save_dir = \"H:\\slicer\\motion_simulator\"\n",
    "pathlib.Path(save_dir).mkdir(parents=True, exist_ok=True)\n",
    "for seed in seed_list:\n",
    "    np.random.seed(seed)\n",
    "    center = np.array(find_random_one_numpy(skeleton))[None,]\n",
    "    orientation_centerline_spacing = \\\n",
    "        get_point_orientation(point=center, centerline=skeleton, spacing=spacing, size=3, is_end_point=False)[0]\n",
    "    direction_image_com = np.array([direction_image[0], direction_image[4], direction_image[8]])\n",
    "    orientation_centerline_world = orientation_centerline_spacing * direction_image_com\n",
    "    orientation_centerline_image = orientation_centerline_spacing / spacing\n",
    "    # randomize the orientation\n",
    "    random_direction_3d = generate_random_vector_perpendicular_to(orientation_centerline_world)\n",
    "\n",
    "    direction_plane = np.sign(original_affine[:3, :3].reshape(-1, )).tolist()\n",
    "    center_world = image2world(point=center[0], spacing=spacing, origin=origin, direction=direction_plane)\n",
    "    plane_normal = orientation_centerline_world.tolist()\n",
    "    bounds = [-10.0, 10.0, -5.0, 5.0]\n",
    "    coordinate_system = image.meta.get('space')\n",
    "\n",
    "    markup_orientation = calculate_markup_orientation_from_normal(plane_normal).reshape(-1).tolist()\n",
    "\n",
    "    markup_json_str = create_extended_plane_markup_json(center=center_world, normal=plane_normal, bounds=bounds,\n",
    "                                                        coordinate_system=coordinate_system,\n",
    "                                                        markup_orientation=markup_orientation,\n",
    "                                                        orientation=direction_plane)\n",
    "    # save to file\n",
    "    with open(f\"{save_dir}\\plane_write_world_{seed}.mrk.json\", \"w\") as f:\n",
    "        f.write(markup_json_str)\n",
    "\n",
    "    h, w, d = label.shape\n",
    "    MVF_world = np.zeros((h, w, d, 3))\n",
    "    MVF_world += random_direction_3d\n",
    "    MVF_mask = np.zeros_like(label)\n",
    "    center_point = center[0]\n",
    "    region_size = 10\n",
    "    x_l, x_u = max(center_point[0] - region_size, 0), min(center_point[0] + region_size, h)\n",
    "    y_l, y_u = max(center_point[1] - region_size, 0), min(center_point[1] + region_size, w)\n",
    "    z_l, z_u = max(center_point[2] - region_size, 0), min(center_point[2] + region_size, d)\n",
    "    center_cube = slice(x_l, x_u), slice(y_l, y_u), slice(z_l, z_u)\n",
    "    MVF_mask[center_cube] = label[center_cube]\n",
    "    MVF_weight = gaussian_filter(MVF_mask, sigma=sigma)\n",
    "    MVF_world = MVF_world * MVF_weight[..., None]\n",
    "    MVF_image = (MVF_world / np.array(direction_image_com) / np.array(spacing))\n",
    "    save_path = f\"{save_dir}/mvf_plane_{seed}.nrrd\"\n",
    "    # 3D slicer visualization has a bug that it does not respect the affine matrix\n",
    "    MVF_world[:, :, :, 0] = -MVF_world[:, :, :, 0]\n",
    "    MVF_world[:, :, :, 1] = -MVF_world[:, :, :, 1]\n",
    "    save_mvf(MVF_world, save_path=save_path, affine=image.meta[\"original_affine\"],\n",
    "             space=coordinate_system, scale_factor=10)\n",
    "    print(f\"plane_normal: {plane_normal}\", f\"random_direction_3d: {random_direction_3d}\",\n",
    "          f\"dot product: {plane_normal @ random_direction_3d}\")\n",
    "    mean_image = np.zeros_like(image)\n",
    "    mean_image = mean_image[None, ]\n",
    "    warp_image_record = []\n",
    "    for i, scale_factor in enumerate(scale_list):\n",
    "        MVF_image_transpose = MVF_image.transpose(3, 0, 1, 2).astype(np.float32) * scale_factor\n",
    "        tmp = tuple([np.arange(i) for i in (h, w, d)])\n",
    "        coords = np.array(np.meshgrid(*tmp, indexing='ij')).astype(float)\n",
    "\n",
    "        image_warp = map_coordinates(np.array(image), MVF_image_transpose + coords, order=1, mode='constant',\n",
    "                                     cval=0)\n",
    "        label_warp = map_coordinates(np.array(label), MVF_image_transpose + coords, order=0, mode='constant',\n",
    "                                     cval=0)\n",
    "        image_warp = image_warp[None, ]\n",
    "        label_warp = label_warp[None, ]\n",
    "        def name_func(x): return f\"m{abs(x)}\" if x < 0 else f\"p{abs(x)}\"\n",
    "        saver = SaveImage(output_dir=save_dir, output_postfix=f\"warp_image_seed_{seed}_scale_{name_func(scale_factor)}\")\n",
    "        saver(image_warp, meta_data=image.meta)\n",
    "        saver = SaveImage(output_dir=save_dir, output_postfix=f\"warp_label_seed_{seed}_scale_{name_func(scale_factor)}\")\n",
    "        saver(label_warp, meta_data=label.meta)\n",
    "        warp_image_record.append(image_warp)\n",
    "        print(scale_list)\n",
    "\n",
    "\n",
    "    # weighted_list = np.ones_like(scale_list)\n",
    "    # weighted_list_smooth = gaussian_filter(weighted_list, sigma=1, mode=\"constant\")\n",
    "    # for i in range(len(mean_image)):\n",
    "    #     mean_image += weighted_list_smooth[i] * warp_image_record[i]\n",
    "    # mean_image /= weighted_list_smooth.sum()\n",
    "    # saver = SaveImage(output_dir=save_dir, output_postfix=f\"warp_image_seed_{seed}_scale_mean\")\n",
    "    # saver(mean_image, meta_data=image.meta)"
   ],
   "metadata": {
    "collapsed": false,
    "pycharm": {
     "name": "#%%\n"
    }
   }
  },
  {
   "cell_type": "markdown",
   "source": [
    "# Generate the MVF\n",
    "* 三维图像中的方向, 图像的方向, 世界坐标系的方向， 世界坐标系方向不仅要考虑spacing，还要考虑图像的方向(-1, 0, 0, 0, -1, 0, 0, 0, 1)"
   ],
   "metadata": {
    "collapsed": false,
    "pycharm": {
     "name": "#%% md\n"
    }
   }
  },
  {
   "cell_type": "markdown",
   "source": [
    "### seed 5 have problem"
   ],
   "metadata": {
    "collapsed": false,
    "pycharm": {
     "name": "#%% md\n"
    }
   }
  },
  {
   "cell_type": "markdown",
   "source": [
    "# Warp the image and label"
   ],
   "metadata": {
    "collapsed": false,
    "pycharm": {
     "name": "#%% md\n"
    }
   },
   "outputs": []
  },
  {
   "cell_type": "code",
   "execution_count": 30,
   "outputs": [
    {
     "name": "stdout",
     "output_type": "stream",
     "text": [
      "2024-02-28 11:22:20,606 INFO image_writer.py:194 - writing: H:\\slicer\\motion_artifact_simulator_scale_2\\AI01_0043\\AI01_0043_warp_image_seed_0_scale_mean_sigma_1.nii.gz\n"
     ]
    },
    {
     "data": {
      "text/plain": "array([[[[   93.,    95.,   106., ...,   -73.,  -156.,  -244.],\n         [   60.,    60.,    59., ...,    22.,   -23.,   -77.],\n         [   15.,    12.,     8., ...,    67.,    56.,    36.],\n         ...,\n         [   37.,    30.,    24., ...,    48.,   -15.,  -102.],\n         [   38.,    29.,    25., ...,    94.,    63.,   -12.],\n         [   41.,    28.,    28., ...,   139.,   130.,    66.]],\n\n        [[   93.,    90.,    96., ...,   -74.,  -158.,  -242.],\n         [   64.,    62.,    57., ...,    19.,   -26.,   -76.],\n         [   15.,    13.,     4., ...,    60.,    52.,    36.],\n         ...,\n         [   38.,    33.,    30., ...,   -65.,  -146.,  -243.],\n         [   37.,    30.,    27., ...,     5.,   -49.,  -140.],\n         [   36.,    25.,    22., ...,    63.,    34.,   -60.]],\n\n        [[   89.,    91.,    93., ...,   -79.,  -163.,  -243.],\n         [   66.,    64.,    57., ...,    17.,   -29.,   -77.],\n         [   25.,    13.,     3., ...,    57.,    51.,    35.],\n         ...,\n         [   38.,    41.,    37., ...,  -190.,  -288.,  -388.],\n         [   38.,    39.,    38., ...,   -96.,  -176.,  -289.],\n         [   33.,    30.,    29., ...,   -29.,   -84.,  -204.]],\n\n        ...,\n\n        [[ -106.,  -106.,  -107., ..., -1006., -1010., -1014.],\n         [  -91.,   -91.,   -94., ..., -1006., -1012., -1015.],\n         [  -85.,   -87.,   -86., ..., -1012., -1015., -1016.],\n         ...,\n         [  113.,   109.,   108., ...,   180.,   359.,   492.],\n         [  102.,   103.,   107., ...,   137.,   294.,   426.],\n         [   98.,    99.,   110., ...,   120.,   262.,   384.]],\n\n        [[  -84.,   -84.,   -90., ..., -1006., -1010., -1015.],\n         [  -77.,   -78.,   -85., ..., -1008., -1013., -1016.],\n         [  -77.,   -78.,   -84., ..., -1014., -1018., -1017.],\n         ...,\n         [  109.,   110.,   110., ...,   212.,   340.,   402.],\n         [   98.,   103.,   111., ...,   177.,   298.,   371.],\n         [   90.,   101.,   116., ...,   162.,   281.,   361.]],\n\n        [[  -81.,   -78.,   -87., ..., -1005., -1010., -1015.],\n         [  -70.,   -70.,   -80., ..., -1012., -1015., -1017.],\n         [  -74.,   -76.,   -79., ..., -1016., -1019., -1017.],\n         ...,\n         [  113.,   116.,   111., ...,   257.,   338.,   343.],\n         [   95.,   106.,   114., ...,   223.,   317.,   330.],\n         [   87.,   100.,   115., ...,   216.,   310.,   341.]]]],\n      dtype=float32)"
     },
     "execution_count": 30,
     "metadata": {},
     "output_type": "execute_result"
    }
   ],
   "source": [
    "mean_image = np.zeros_like(image)[None, ]\n",
    "weighted_list = np.ones_like(scale_list)\n",
    "weighted_list_smooth = gaussian_filter(weighted_list, sigma=1, mode=\"constant\")\n",
    "weighted_list_smooth = np.array([0, 0, 0, 0, 0.5, 0, 0, 0, 0.5])\n",
    "# weighted_list_smooth = weighted_list\n",
    "weighted_list_smooth /= weighted_list_smooth.sum()\n",
    "for i in range(len(weighted_list_smooth)):\n",
    "    mean_image += warp_image_record[i] * weighted_list_smooth[i]\n",
    "saver = SaveImage(output_dir=save_dir, output_postfix=f\"warp_image_seed_{seed}_scale_mean_sigma_1\")\n",
    "saver(mean_image, meta_data=image.meta)"
   ],
   "metadata": {
    "collapsed": false,
    "pycharm": {
     "name": "#%%\n"
    }
   }
  },
  {
   "cell_type": "code",
   "execution_count": null,
   "outputs": [],
   "source": [],
   "metadata": {
    "collapsed": false,
    "pycharm": {
     "name": "#%%\n"
    }
   }
  }
 ],
 "metadata": {
  "kernelspec": {
   "display_name": "Python 3",
   "language": "python",
   "name": "python3"
  },
  "language_info": {
   "codemirror_mode": {
    "name": "ipython",
    "version": 2
   },
   "file_extension": ".py",
   "mimetype": "text/x-python",
   "name": "python",
   "nbconvert_exporter": "python",
   "pygments_lexer": "ipython2",
   "version": "2.7.6"
  }
 },
 "nbformat": 4,
 "nbformat_minor": 0
}