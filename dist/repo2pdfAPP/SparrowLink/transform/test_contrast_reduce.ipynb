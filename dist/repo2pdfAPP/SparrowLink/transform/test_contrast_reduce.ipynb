{
 "cells": [
  {
   "cell_type": "code",
   "execution_count": 33,
   "metadata": {
    "collapsed": true,
    "pycharm": {
     "name": "#%%\n"
    }
   },
   "outputs": [
    {
     "name": "stdout",
     "output_type": "stream",
     "text": [
      "Time: 2.47868013381958\n"
     ]
    }
   ],
   "source": [
    "# load image\n",
    "from monai.transforms import LoadImage\n",
    "from skimage.morphology import skeletonize\n",
    "import pathlib\n",
    "import numpy as np\n",
    "from scipy.ndimage import sobel\n",
    "from post_processing.fracture_detection import get_point_orientation\n",
    "from slicer_visulization.slicer_mvf import save_mvf, save_image\n",
    "from slicer_visulization.slicer_mark_up import create_extended_plane_markup_json\n",
    "from scipy.ndimage import gaussian_filter\n",
    "from scipy.ndimage import map_coordinates\n",
    "from monai.transforms import SaveImage\n",
    "\n",
    "def find_random_one_numpy(image, patch_size=None):\n",
    "    # 找到值为1的所有点的坐标\n",
    "    # copy the image to avoid changing the original image\n",
    "    image_copy = image.copy()\n",
    "    if patch_size is not None:\n",
    "        # set image to 0 in the corner\n",
    "        # copy the image to avoid changing the original image\n",
    "        image_copy = image.copy()\n",
    "        image_copy[:patch_size[0] // 2, :, :] = 0\n",
    "        image_copy[-patch_size[0] // 2:, :, :] = 0\n",
    "        image_copy[:, :patch_size[1] // 2, :] = 0\n",
    "        ones_indices = np.where(image_copy == 1)\n",
    "\n",
    "    else:\n",
    "        ones_indices = np.where(image == 1)\n",
    "    # 转换坐标为列表形式 [(x1, y1), (x2, y2), ...]\n",
    "    ones_list = list(zip(ones_indices[0], ones_indices[1], ones_indices[2]))\n",
    "\n",
    "    if not ones_list:\n",
    "        return None  # 如果没有找到值为1的点，则返回None\n",
    "\n",
    "    # 从列表中随机选择一个点\n",
    "    return ones_list[np.random.randint(len(ones_list))]\n",
    "\n",
    "\n",
    "def generate_slice_by_center_and_patch_size(center, patch_size):\n",
    "    x_slice = slice(center[0] - patch_size[0] // 2, center[0] + patch_size[0] // 2)\n",
    "    y_slice = slice(center[1] - patch_size[1] // 2, center[1] + patch_size[1] // 2)\n",
    "    z_slice = slice(center[2] - patch_size[2] // 2, center[2] + patch_size[2] // 2)\n",
    "    return (x_slice, y_slice, z_slice)\n",
    "\n",
    "\n",
    "def change_contrast(image, contrast_factor):\n",
    "    # change contrast of the image\n",
    "    # image: 3D numpy array\n",
    "    # contrast_factor: float, the factor to change the contrast\n",
    "    # return: 3D numpy array\n",
    "    return image * contrast_factor\n",
    "\n",
    "\n",
    "loader = LoadImage(image_only=True)\n",
    "image = loader(\n",
    "    \"H:/Graduate_project/segment_server/data/multi_phase_select/final_version_crop_train/test/main/img_crop/AI01_0043.nii.gz\")\n",
    "label = loader(\n",
    "    \"H:/Graduate_project/segment_server/data/multi_phase_select/final_version_crop_train/test/main/label_crop_clip/AI01_0043.nii.gz\")\n",
    "heart = loader(\n",
    "    \"H:/Graduate_project/segment_server/data/multi_phase_select/final_version_crop_train/test/main/heart_connect_crop/AI01_0043.nii.gz\")\n",
    "import time\n",
    "tic = time.time()\n",
    "skeleton = skeletonize(label) > 0\n",
    "toc = time.time()\n",
    "print(f\"Time: {toc - tic}\")"
   ]
  },
  {
   "cell_type": "code",
   "execution_count": 44,
   "outputs": [],
   "source": [
    "# Coordinate system\n",
    "original_affine = image.meta.get('original_affine')\n",
    "direction_image = np.sign(original_affine[:3, :3].reshape(-1, )).tolist()\n",
    "spacing = image.meta.get('pixdim')[1:4]\n",
    "origin = original_affine[:3, 3]\n",
    "seed = 7\n",
    "sigma = 4\n",
    "save_dir = \"H:/slicer/region_contrast_reduction\"\n",
    "pathlib.Path(save_dir).mkdir(parents=True, exist_ok=True)\n",
    "np.random.seed(seed)\n",
    "patch_size = (96, 160, 160)\n",
    "center = np.array(find_random_one_numpy(skeleton, patch_size=patch_size))[None,]\n",
    "# generate patch slice located at the center to get patch data, using python slicing\n",
    "patch_slice = generate_slice_by_center_and_patch_size(center[0], patch_size)\n",
    "patch_image = image[patch_slice]\n",
    "patch_skeleton = skeleton[patch_slice]\n",
    "label_patch = label[patch_slice]"
   ],
   "metadata": {
    "collapsed": false,
    "pycharm": {
     "name": "#%%\n"
    }
   }
  },
  {
   "cell_type": "code",
   "execution_count": 39,
   "outputs": [
    {
     "ename": "ValueError",
     "evalue": "zero-size array to reduction operation minimum which has no identity",
     "output_type": "error",
     "traceback": [
      "\u001B[1;31m---------------------------------------------------------------------------\u001B[0m",
      "\u001B[1;31mValueError\u001B[0m                                Traceback (most recent call last)",
      "\u001B[1;32m~\\AppData\\Local\\Temp\\ipykernel_28824\\3480399266.py\u001B[0m in \u001B[0;36m<module>\u001B[1;34m\u001B[0m\n\u001B[0;32m     18\u001B[0m \u001B[1;33m\u001B[0m\u001B[0m\n\u001B[0;32m     19\u001B[0m \u001B[0mtic\u001B[0m \u001B[1;33m=\u001B[0m \u001B[0mtime\u001B[0m\u001B[1;33m.\u001B[0m\u001B[0mtime\u001B[0m\u001B[1;33m(\u001B[0m\u001B[1;33m)\u001B[0m\u001B[1;33m\u001B[0m\u001B[1;33m\u001B[0m\u001B[0m\n\u001B[1;32m---> 20\u001B[1;33m \u001B[0mtest_skeloton_time\u001B[0m \u001B[1;33m=\u001B[0m \u001B[0mskeletonize\u001B[0m\u001B[1;33m(\u001B[0m\u001B[0mlabel_patch\u001B[0m\u001B[1;33m)\u001B[0m \u001B[1;33m>\u001B[0m \u001B[1;36m0\u001B[0m\u001B[1;33m\u001B[0m\u001B[1;33m\u001B[0m\u001B[0m\n\u001B[0m\u001B[0;32m     21\u001B[0m \u001B[0mtoc\u001B[0m \u001B[1;33m=\u001B[0m \u001B[0mtime\u001B[0m\u001B[1;33m.\u001B[0m\u001B[0mtime\u001B[0m\u001B[1;33m(\u001B[0m\u001B[1;33m)\u001B[0m\u001B[1;33m\u001B[0m\u001B[1;33m\u001B[0m\u001B[0m\n\u001B[0;32m     22\u001B[0m \u001B[0mprint\u001B[0m\u001B[1;33m(\u001B[0m\u001B[1;34mf\"Time: {toc - tic}\"\u001B[0m\u001B[1;33m)\u001B[0m\u001B[1;33m\u001B[0m\u001B[1;33m\u001B[0m\u001B[0m\n",
      "\u001B[1;32mH:\\anaconda\\Anaconda\\envs\\Pytorch_gpu\\lib\\site-packages\\skimage\\morphology\\_skeletonize.py\u001B[0m in \u001B[0;36mskeletonize\u001B[1;34m(image, method)\u001B[0m\n\u001B[0;32m     83\u001B[0m                          'images.')\n\u001B[0;32m     84\u001B[0m     \u001B[1;32melif\u001B[0m \u001B[0mimage\u001B[0m\u001B[1;33m.\u001B[0m\u001B[0mndim\u001B[0m \u001B[1;33m==\u001B[0m \u001B[1;36m3\u001B[0m \u001B[1;32mor\u001B[0m \u001B[1;33m(\u001B[0m\u001B[0mimage\u001B[0m\u001B[1;33m.\u001B[0m\u001B[0mndim\u001B[0m \u001B[1;33m==\u001B[0m \u001B[1;36m2\u001B[0m \u001B[1;32mand\u001B[0m \u001B[0mmethod\u001B[0m \u001B[1;33m==\u001B[0m \u001B[1;34m'lee'\u001B[0m\u001B[1;33m)\u001B[0m\u001B[1;33m:\u001B[0m\u001B[1;33m\u001B[0m\u001B[1;33m\u001B[0m\u001B[0m\n\u001B[1;32m---> 85\u001B[1;33m         \u001B[0mskeleton\u001B[0m \u001B[1;33m=\u001B[0m \u001B[0mskeletonize_3d\u001B[0m\u001B[1;33m(\u001B[0m\u001B[0mimage\u001B[0m\u001B[1;33m)\u001B[0m\u001B[1;33m\u001B[0m\u001B[1;33m\u001B[0m\u001B[0m\n\u001B[0m\u001B[0;32m     86\u001B[0m     \u001B[1;32melse\u001B[0m\u001B[1;33m:\u001B[0m\u001B[1;33m\u001B[0m\u001B[1;33m\u001B[0m\u001B[0m\n\u001B[0;32m     87\u001B[0m         raise ValueError(f'skeletonize requires a 2D or 3D image as input, '\n",
      "\u001B[1;32mH:\\anaconda\\Anaconda\\envs\\Pytorch_gpu\\lib\\site-packages\\skimage\\morphology\\_skeletonize.py\u001B[0m in \u001B[0;36mskeletonize_3d\u001B[1;34m(image)\u001B[0m\n\u001B[0;32m    627\u001B[0m                          \"got image.ndim = %s instead.\" % image.ndim)\n\u001B[0;32m    628\u001B[0m     \u001B[0mimage\u001B[0m \u001B[1;33m=\u001B[0m \u001B[0mnp\u001B[0m\u001B[1;33m.\u001B[0m\u001B[0mascontiguousarray\u001B[0m\u001B[1;33m(\u001B[0m\u001B[0mimage\u001B[0m\u001B[1;33m)\u001B[0m\u001B[1;33m\u001B[0m\u001B[1;33m\u001B[0m\u001B[0m\n\u001B[1;32m--> 629\u001B[1;33m     \u001B[0mimage\u001B[0m \u001B[1;33m=\u001B[0m \u001B[0mimg_as_ubyte\u001B[0m\u001B[1;33m(\u001B[0m\u001B[0mimage\u001B[0m\u001B[1;33m,\u001B[0m \u001B[0mforce_copy\u001B[0m\u001B[1;33m=\u001B[0m\u001B[1;32mFalse\u001B[0m\u001B[1;33m)\u001B[0m\u001B[1;33m\u001B[0m\u001B[1;33m\u001B[0m\u001B[0m\n\u001B[0m\u001B[0;32m    630\u001B[0m \u001B[1;33m\u001B[0m\u001B[0m\n\u001B[0;32m    631\u001B[0m     \u001B[1;31m# make an in image 3D and pad it w/ zeros to simplify dealing w/ boundaries\u001B[0m\u001B[1;33m\u001B[0m\u001B[1;33m\u001B[0m\u001B[1;33m\u001B[0m\u001B[0m\n",
      "\u001B[1;32mH:\\anaconda\\Anaconda\\envs\\Pytorch_gpu\\lib\\site-packages\\skimage\\util\\dtype.py\u001B[0m in \u001B[0;36mimg_as_ubyte\u001B[1;34m(image, force_copy)\u001B[0m\n\u001B[0;32m    539\u001B[0m \u001B[1;33m\u001B[0m\u001B[0m\n\u001B[0;32m    540\u001B[0m     \"\"\"\n\u001B[1;32m--> 541\u001B[1;33m     \u001B[1;32mreturn\u001B[0m \u001B[0m_convert\u001B[0m\u001B[1;33m(\u001B[0m\u001B[0mimage\u001B[0m\u001B[1;33m,\u001B[0m \u001B[0mnp\u001B[0m\u001B[1;33m.\u001B[0m\u001B[0muint8\u001B[0m\u001B[1;33m,\u001B[0m \u001B[0mforce_copy\u001B[0m\u001B[1;33m)\u001B[0m\u001B[1;33m\u001B[0m\u001B[1;33m\u001B[0m\u001B[0m\n\u001B[0m\u001B[0;32m    542\u001B[0m \u001B[1;33m\u001B[0m\u001B[0m\n\u001B[0;32m    543\u001B[0m \u001B[1;33m\u001B[0m\u001B[0m\n",
      "\u001B[1;32mH:\\anaconda\\Anaconda\\envs\\Pytorch_gpu\\lib\\site-packages\\skimage\\util\\dtype.py\u001B[0m in \u001B[0;36m_convert\u001B[1;34m(image, dtype, force_copy, uniform)\u001B[0m\n\u001B[0;32m    280\u001B[0m             \u001B[1;32mreturn\u001B[0m \u001B[0mimage\u001B[0m\u001B[1;33m.\u001B[0m\u001B[0mastype\u001B[0m\u001B[1;33m(\u001B[0m\u001B[0mdtype_out\u001B[0m\u001B[1;33m)\u001B[0m\u001B[1;33m\u001B[0m\u001B[1;33m\u001B[0m\u001B[0m\n\u001B[0;32m    281\u001B[0m \u001B[1;33m\u001B[0m\u001B[0m\n\u001B[1;32m--> 282\u001B[1;33m         \u001B[1;32mif\u001B[0m \u001B[0mnp\u001B[0m\u001B[1;33m.\u001B[0m\u001B[0mmin\u001B[0m\u001B[1;33m(\u001B[0m\u001B[0mimage\u001B[0m\u001B[1;33m)\u001B[0m \u001B[1;33m<\u001B[0m \u001B[1;33m-\u001B[0m\u001B[1;36m1.0\u001B[0m \u001B[1;32mor\u001B[0m \u001B[0mnp\u001B[0m\u001B[1;33m.\u001B[0m\u001B[0mmax\u001B[0m\u001B[1;33m(\u001B[0m\u001B[0mimage\u001B[0m\u001B[1;33m)\u001B[0m \u001B[1;33m>\u001B[0m \u001B[1;36m1.0\u001B[0m\u001B[1;33m:\u001B[0m\u001B[1;33m\u001B[0m\u001B[1;33m\u001B[0m\u001B[0m\n\u001B[0m\u001B[0;32m    283\u001B[0m             \u001B[1;32mraise\u001B[0m \u001B[0mValueError\u001B[0m\u001B[1;33m(\u001B[0m\u001B[1;34m\"Images of type float must be between -1 and 1.\"\u001B[0m\u001B[1;33m)\u001B[0m\u001B[1;33m\u001B[0m\u001B[1;33m\u001B[0m\u001B[0m\n\u001B[0;32m    284\u001B[0m         \u001B[1;31m# floating point -> integer\u001B[0m\u001B[1;33m\u001B[0m\u001B[1;33m\u001B[0m\u001B[1;33m\u001B[0m\u001B[0m\n",
      "\u001B[1;32m<__array_function__ internals>\u001B[0m in \u001B[0;36mamin\u001B[1;34m(*args, **kwargs)\u001B[0m\n",
      "\u001B[1;32mH:\\anaconda\\Anaconda\\envs\\Pytorch_gpu\\lib\\site-packages\\numpy\\core\\fromnumeric.py\u001B[0m in \u001B[0;36mamin\u001B[1;34m(a, axis, out, keepdims, initial, where)\u001B[0m\n\u001B[0;32m   2878\u001B[0m     \"\"\"\n\u001B[0;32m   2879\u001B[0m     return _wrapreduction(a, np.minimum, 'min', axis, None, out,\n\u001B[1;32m-> 2880\u001B[1;33m                           keepdims=keepdims, initial=initial, where=where)\n\u001B[0m\u001B[0;32m   2881\u001B[0m \u001B[1;33m\u001B[0m\u001B[0m\n\u001B[0;32m   2882\u001B[0m \u001B[1;33m\u001B[0m\u001B[0m\n",
      "\u001B[1;32mH:\\anaconda\\Anaconda\\envs\\Pytorch_gpu\\lib\\site-packages\\numpy\\core\\fromnumeric.py\u001B[0m in \u001B[0;36m_wrapreduction\u001B[1;34m(obj, ufunc, method, axis, dtype, out, **kwargs)\u001B[0m\n\u001B[0;32m     84\u001B[0m                 \u001B[1;32mreturn\u001B[0m \u001B[0mreduction\u001B[0m\u001B[1;33m(\u001B[0m\u001B[0maxis\u001B[0m\u001B[1;33m=\u001B[0m\u001B[0maxis\u001B[0m\u001B[1;33m,\u001B[0m \u001B[0mout\u001B[0m\u001B[1;33m=\u001B[0m\u001B[0mout\u001B[0m\u001B[1;33m,\u001B[0m \u001B[1;33m**\u001B[0m\u001B[0mpasskwargs\u001B[0m\u001B[1;33m)\u001B[0m\u001B[1;33m\u001B[0m\u001B[1;33m\u001B[0m\u001B[0m\n\u001B[0;32m     85\u001B[0m \u001B[1;33m\u001B[0m\u001B[0m\n\u001B[1;32m---> 86\u001B[1;33m     \u001B[1;32mreturn\u001B[0m \u001B[0mufunc\u001B[0m\u001B[1;33m.\u001B[0m\u001B[0mreduce\u001B[0m\u001B[1;33m(\u001B[0m\u001B[0mobj\u001B[0m\u001B[1;33m,\u001B[0m \u001B[0maxis\u001B[0m\u001B[1;33m,\u001B[0m \u001B[0mdtype\u001B[0m\u001B[1;33m,\u001B[0m \u001B[0mout\u001B[0m\u001B[1;33m,\u001B[0m \u001B[1;33m**\u001B[0m\u001B[0mpasskwargs\u001B[0m\u001B[1;33m)\u001B[0m\u001B[1;33m\u001B[0m\u001B[1;33m\u001B[0m\u001B[0m\n\u001B[0m\u001B[0;32m     87\u001B[0m \u001B[1;33m\u001B[0m\u001B[0m\n\u001B[0;32m     88\u001B[0m \u001B[1;33m\u001B[0m\u001B[0m\n",
      "\u001B[1;31mValueError\u001B[0m: zero-size array to reduction operation minimum which has no identity"
     ]
    }
   ],
   "source": [
    "label_patch.max()\n",
    "tic = time.time()\n",
    "test_skeloton_time = skeletonize(label_patch) > 0\n",
    "toc = time.time()\n",
    "print(f\"Time: {toc - tic}\")"
   ],
   "metadata": {
    "collapsed": false,
    "pycharm": {
     "name": "#%%\n"
    }
   }
  },
  {
   "cell_type": "code",
   "execution_count": 47,
   "outputs": [
    {
     "data": {
      "text/plain": "(slice(29, 125, None), slice(79, 239, None), slice(39, 199, None))"
     },
     "execution_count": 47,
     "metadata": {},
     "output_type": "execute_result"
    }
   ],
   "source": [
    "patch_slice"
   ],
   "metadata": {
    "collapsed": false,
    "pycharm": {
     "name": "#%%\n"
    }
   }
  },
  {
   "cell_type": "code",
   "execution_count": 27,
   "outputs": [
    {
     "name": "stdout",
     "output_type": "stream",
     "text": [
      "2024-02-29 15:09:58,823 INFO image_writer.py:194 - writing: H:\\slicer\\region_contrast_reduction\\AI01_0043\\AI01_0043_image_change_region_contrast_seed_7_0.5_smooth_4.nii.gz.nii.gz\n",
      "2024-02-29 15:10:02,344 INFO image_writer.py:194 - writing: H:\\slicer\\region_contrast_reduction\\AI01_0043\\AI01_0043_patch_mask_7.nii.gz.nii.gz\n",
      "2024-02-29 15:10:03,326 INFO image_writer.py:194 - writing: H:\\slicer\\region_contrast_reduction\\AI01_0043\\AI01_0043_contrast_change_mask_7.nii.gz.nii.gz\n"
     ]
    },
    {
     "data": {
      "text/plain": "array([[[0., 0., 0., ..., 0., 0., 0.],\n        [0., 0., 0., ..., 0., 0., 0.],\n        [0., 0., 0., ..., 0., 0., 0.],\n        ...,\n        [0., 0., 0., ..., 0., 0., 0.],\n        [0., 0., 0., ..., 0., 0., 0.],\n        [0., 0., 0., ..., 0., 0., 0.]],\n\n       [[0., 0., 0., ..., 0., 0., 0.],\n        [0., 0., 0., ..., 0., 0., 0.],\n        [0., 0., 0., ..., 0., 0., 0.],\n        ...,\n        [0., 0., 0., ..., 0., 0., 0.],\n        [0., 0., 0., ..., 0., 0., 0.],\n        [0., 0., 0., ..., 0., 0., 0.]],\n\n       [[0., 0., 0., ..., 0., 0., 0.],\n        [0., 0., 0., ..., 0., 0., 0.],\n        [0., 0., 0., ..., 0., 0., 0.],\n        ...,\n        [0., 0., 0., ..., 0., 0., 0.],\n        [0., 0., 0., ..., 0., 0., 0.],\n        [0., 0., 0., ..., 0., 0., 0.]],\n\n       ...,\n\n       [[0., 0., 0., ..., 0., 0., 0.],\n        [0., 0., 0., ..., 0., 0., 0.],\n        [0., 0., 0., ..., 0., 0., 0.],\n        ...,\n        [0., 0., 0., ..., 0., 0., 0.],\n        [0., 0., 0., ..., 0., 0., 0.],\n        [0., 0., 0., ..., 0., 0., 0.]],\n\n       [[0., 0., 0., ..., 0., 0., 0.],\n        [0., 0., 0., ..., 0., 0., 0.],\n        [0., 0., 0., ..., 0., 0., 0.],\n        ...,\n        [0., 0., 0., ..., 0., 0., 0.],\n        [0., 0., 0., ..., 0., 0., 0.],\n        [0., 0., 0., ..., 0., 0., 0.]],\n\n       [[0., 0., 0., ..., 0., 0., 0.],\n        [0., 0., 0., ..., 0., 0., 0.],\n        [0., 0., 0., ..., 0., 0., 0.],\n        ...,\n        [0., 0., 0., ..., 0., 0., 0.],\n        [0., 0., 0., ..., 0., 0., 0.],\n        [0., 0., 0., ..., 0., 0., 0.]]], dtype=float32)"
     },
     "execution_count": 27,
     "metadata": {},
     "output_type": "execute_result"
    }
   ],
   "source": [
    "patch_patch_size = (20, 20, 20)\n",
    "patch_patch_center = np.array(find_random_one_numpy(patch_skeleton, patch_size=patch_patch_size))[None,]\n",
    "patch_patch_center = np.array(find_random_one_numpy(patch_skeleton, patch_size=patch_patch_size))[None,]\n",
    "# to get different position.\n",
    "patch_patch_slice = generate_slice_by_center_and_patch_size(patch_patch_center[0], patch_patch_size)\n",
    "\n",
    "contrast_reduction_factor = 0.5\n",
    "patch_patch_mask = np.ones_like(patch_image)\n",
    "patch_patch_mask[patch_patch_slice] = 0.5\n",
    "Patch_patch_mask_gaussian = gaussian_filter(patch_patch_mask, sigma=4)\n",
    "# sacle Patch_patch_mask_gaussian to contrast_reduction_factor-1\n",
    "min_max = Patch_patch_mask_gaussian.max() - Patch_patch_mask_gaussian.min()\n",
    "patch_min = Patch_patch_mask_gaussian.min()\n",
    "Patch_patch_mask_gaussian = (Patch_patch_mask_gaussian - patch_min) * (1 - contrast_reduction_factor) / min_max \\\n",
    "                            + contrast_reduction_factor\n",
    "\n",
    "patch_mean = patch_image.mean()\n",
    "patch_image_change_region_contrast = (patch_image - patch_mean) * Patch_patch_mask_gaussian + patch_mean\n",
    "\n",
    "image_change_region_contrast = np.array(image).copy()\n",
    "image_change_region_contrast[patch_slice] = patch_image_change_region_contrast\n",
    "saver = SaveImage(output_dir=save_dir, output_postfix=f\"image_change_region_contrast_seed_{seed}_{contrast_reduction_factor}_smooth_{sigma}.nii.gz\")\n",
    "saver(image_change_region_contrast, meta_data=image.meta)\n",
    "\n",
    "mask_patch_level = np.zeros_like(image)\n",
    "mask_patch_level[patch_slice] = 1\n",
    "mask_patch_patch_level = np.zeros_like(image)\n",
    "mask_patch_patch_level[patch_slice] = patch_patch_mask<1\n",
    "\n",
    "saver = SaveImage(output_dir=save_dir, output_postfix=f\"patch_mask_{seed}.nii.gz\")\n",
    "saver(mask_patch_level, meta_data=label.meta)\n",
    "\n",
    "saver = SaveImage(output_dir=save_dir, output_postfix=f\"contrast_change_mask_{seed}.nii.gz\")\n",
    "saver(mask_patch_patch_level, meta_data=label.meta)"
   ],
   "metadata": {
    "collapsed": false,
    "pycharm": {
     "name": "#%%\n"
    }
   }
  },
  {
   "cell_type": "code",
   "execution_count": 17,
   "outputs": [
    {
     "data": {
      "text/plain": "1.0"
     },
     "execution_count": 17,
     "metadata": {},
     "output_type": "execute_result"
    }
   ],
   "source": [
    "Patch_patch_mask_gaussian.max()"
   ],
   "metadata": {
    "collapsed": false,
    "pycharm": {
     "name": "#%%\n"
    }
   }
  },
  {
   "cell_type": "code",
   "execution_count": 54,
   "outputs": [
    {
     "name": "stdout",
     "output_type": "stream",
     "text": [
      "2\n",
      "3\n",
      "0\n",
      "0\n",
      "3\n",
      "1\n",
      "0\n",
      "0\n",
      "3\n",
      "1\n",
      "0\n"
     ]
    }
   ],
   "source": [
    "print(np.random.randint(0, 4))\n",
    "print(np.random.randint(0, 4))\n",
    "print(np.random.randint(0, 4))\n",
    "print(np.random.randint(0, 4))\n",
    "print(np.random.randint(0, 4))\n",
    "print(np.random.randint(0, 4))\n",
    "print(np.random.randint(0, 4))\n",
    "print(np.random.randint(0, 4))\n",
    "print(np.random.randint(0, 4))\n",
    "print(np.random.randint(0, 4))\n",
    "print(np.random.randint(0, 4))"
   ],
   "metadata": {
    "collapsed": false,
    "pycharm": {
     "name": "#%%\n"
    }
   }
  },
  {
   "cell_type": "code",
   "execution_count": null,
   "outputs": [],
   "source": [],
   "metadata": {
    "collapsed": false,
    "pycharm": {
     "name": "#%%\n"
    }
   }
  }
 ],
 "metadata": {
  "kernelspec": {
   "display_name": "Python 3",
   "language": "python",
   "name": "python3"
  },
  "language_info": {
   "codemirror_mode": {
    "name": "ipython",
    "version": 2
   },
   "file_extension": ".py",
   "mimetype": "text/x-python",
   "name": "python",
   "nbconvert_exporter": "python",
   "pygments_lexer": "ipython2",
   "version": "2.7.6"
  }
 },
 "nbformat": 4,
 "nbformat_minor": 0
}